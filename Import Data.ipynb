{
 "cells": [
  {
   "cell_type": "markdown",
   "id": "13536237",
   "metadata": {},
   "source": [
    "# Airbnb\n",
    "\n",
    "We wish to work on airbnb dataset in order to make some data presentations.\n",
    "The dataset comes from here : https://www.kaggle.com/datasets/joyshil0599/airbnb-listing-data-for-data-science"
   ]
  },
  {
   "cell_type": "markdown",
   "id": "347df25e",
   "metadata": {},
   "source": [
    "# Import des packages"
   ]
  },
  {
   "cell_type": "code",
   "execution_count": 5,
   "id": "96ba348a",
   "metadata": {},
   "outputs": [
    {
     "name": "stdout",
     "output_type": "stream",
     "text": [
      "Collecting opendatasets\n",
      "  Downloading opendatasets-0.1.22-py3-none-any.whl (15 kB)\n",
      "Requirement already satisfied: kaggle in c:\\users\\abram\\anaconda3\\lib\\site-packages (from opendatasets) (1.5.13)\n",
      "Requirement already satisfied: click in c:\\users\\abram\\anaconda3\\lib\\site-packages (from opendatasets) (8.0.4)\n",
      "Requirement already satisfied: tqdm in c:\\users\\abram\\anaconda3\\lib\\site-packages (from opendatasets) (4.64.1)\n",
      "Requirement already satisfied: colorama in c:\\users\\abram\\anaconda3\\lib\\site-packages (from click->opendatasets) (0.4.5)\n",
      "Requirement already satisfied: python-dateutil in c:\\users\\abram\\anaconda3\\lib\\site-packages (from kaggle->opendatasets) (2.8.2)\n",
      "Requirement already satisfied: urllib3 in c:\\users\\abram\\anaconda3\\lib\\site-packages (from kaggle->opendatasets) (1.26.11)\n",
      "Requirement already satisfied: python-slugify in c:\\users\\abram\\anaconda3\\lib\\site-packages (from kaggle->opendatasets) (5.0.2)\n",
      "Requirement already satisfied: six>=1.10 in c:\\users\\abram\\anaconda3\\lib\\site-packages (from kaggle->opendatasets) (1.16.0)\n",
      "Requirement already satisfied: certifi in c:\\users\\abram\\anaconda3\\lib\\site-packages (from kaggle->opendatasets) (2022.9.14)\n",
      "Requirement already satisfied: requests in c:\\users\\abram\\anaconda3\\lib\\site-packages (from kaggle->opendatasets) (2.28.1)\n",
      "Requirement already satisfied: text-unidecode>=1.3 in c:\\users\\abram\\anaconda3\\lib\\site-packages (from python-slugify->kaggle->opendatasets) (1.3)\n",
      "Requirement already satisfied: charset-normalizer<3,>=2 in c:\\users\\abram\\anaconda3\\lib\\site-packages (from requests->kaggle->opendatasets) (2.0.4)\n",
      "Requirement already satisfied: idna<4,>=2.5 in c:\\users\\abram\\anaconda3\\lib\\site-packages (from requests->kaggle->opendatasets) (3.3)\n",
      "Installing collected packages: opendatasets\n",
      "Successfully installed opendatasets-0.1.22\n"
     ]
    }
   ],
   "source": [
    " ! pip install opendatasets"
   ]
  },
  {
   "cell_type": "code",
   "execution_count": 7,
   "id": "d180c497",
   "metadata": {},
   "outputs": [],
   "source": [
    "import opendatasets as od"
   ]
  },
  {
   "cell_type": "code",
   "execution_count": 299,
   "id": "4983adf7",
   "metadata": {},
   "outputs": [],
   "source": [
    "import datetime as dt\n",
    "import numpy as np"
   ]
  },
  {
   "cell_type": "markdown",
   "id": "4be07962",
   "metadata": {},
   "source": [
    "# Data Import"
   ]
  },
  {
   "cell_type": "code",
   "execution_count": 1013,
   "id": "3b1a2570",
   "metadata": {},
   "outputs": [
    {
     "name": "stdout",
     "output_type": "stream",
     "text": [
      "Skipping, found downloaded files in \".\\airbnb-listing-data-for-data-science\" (use force=True to force download)\n"
     ]
    }
   ],
   "source": [
    "od.download(\"https://www.kaggle.com/datasets/joyshil0599/airbnb-listing-data-for-data-science/download?datasetVersionNumber=1\")\n",
    "df = pd.read_csv(r\".\\airbnb-listing-data-for-data-science\\airnb.csv\")"
   ]
  },
  {
   "cell_type": "markdown",
   "id": "9e2b70c7",
   "metadata": {},
   "source": [
    "## Data Cleaning"
   ]
  },
  {
   "cell_type": "code",
   "execution_count": 1014,
   "id": "3d07b9a8",
   "metadata": {},
   "outputs": [
    {
     "data": {
      "text/plain": [
       "Title                       0\n",
       "Detail                      0\n",
       "Date                        0\n",
       "Price(in dollar)            0\n",
       "Offer price(in dollar)    787\n",
       "Review and rating           0\n",
       "Number of bed               0\n",
       "dtype: int64"
      ]
     },
     "execution_count": 1014,
     "metadata": {},
     "output_type": "execute_result"
    }
   ],
   "source": [
    "df.isna().sum()"
   ]
  },
  {
   "cell_type": "code",
   "execution_count": 1015,
   "id": "3ce9c1ce",
   "metadata": {},
   "outputs": [
    {
     "data": {
      "text/plain": [
       "Title                       0\n",
       "Detail                      0\n",
       "Date                        0\n",
       "Price(in dollar)            0\n",
       "Offer price(in dollar)    787\n",
       "Review and rating          22\n",
       "Number of bed               0\n",
       "dtype: int64"
      ]
     },
     "execution_count": 1015,
     "metadata": {},
     "output_type": "execute_result"
    }
   ],
   "source": [
    "df[\"Review and rating\"] = df[\"Review and rating\"].replace(\"None\", np.nan).replace(\"New\", np.nan)\n",
    "df.isna().sum()"
   ]
  },
  {
   "cell_type": "markdown",
   "id": "c770e9d9",
   "metadata": {},
   "source": [
    "## Data Management"
   ]
  },
  {
   "cell_type": "markdown",
   "id": "75c925c5",
   "metadata": {},
   "source": [
    "### Dates : start, end and number of days"
   ]
  },
  {
   "cell_type": "code",
   "execution_count": 1016,
   "id": "9433a9d5",
   "metadata": {},
   "outputs": [],
   "source": [
    "df['Start_date'] = df['Date'].str.split(\"-\").str[0].str.strip() + \", 2023\"\n",
    "df['End_date'] = df['Date'].str.split(\"-\").str[1].str.strip()\n",
    "df['End_date'] = np.where(df['End_date'].str.contains('[a-zA-Z]', regex=True), \n",
    "                                df['End_date'] + \", 2023\",\n",
    "                                df['Start_date'].str.split().str[0] + \" \" + df['End_date'] + \", 2023\")\n",
    "df['Start_date'] = pd.to_datetime(df['Start_date'], format=\"%b %d, %Y\")\n",
    "df['End_date'] = pd.to_datetime(df['End_date'], format=\"%b %d, %Y\")\n",
    "df['Number_of_days'] = (df['End_date'] - df['Start_date']) / np.timedelta64(1, 'D')"
   ]
  },
  {
   "cell_type": "markdown",
   "id": "d3a18902",
   "metadata": {},
   "source": [
    "### Price"
   ]
  },
  {
   "cell_type": "code",
   "execution_count": 1017,
   "id": "e0afad43",
   "metadata": {},
   "outputs": [],
   "source": [
    "df[\"Price(in dollar)\"] = df[\"Price(in dollar)\"].str.replace(\",\",\"\")\n",
    "df[\"Price(in dollar)\"] = df[\"Price(in dollar)\"].astype(float)\n",
    "df[\"Offer price(in dollar)\"] = df[\"Offer price(in dollar)\"].str.replace(\",\",\"\")\n",
    "df[\"Offer price(in dollar)\"] = df[\"Offer price(in dollar)\"].astype(float)"
   ]
  },
  {
   "cell_type": "markdown",
   "id": "56bca0bd",
   "metadata": {},
   "source": [
    "### Reviews and rating "
   ]
  },
  {
   "cell_type": "code",
   "execution_count": 1018,
   "id": "7d9004bc",
   "metadata": {},
   "outputs": [],
   "source": [
    "df[\"Rating\"] = df[\"Review and rating\"].str.split().str[0].astype(float)\n",
    "df[\"Review_number\"] = df[\"Review and rating\"].str.split().str[1].str.strip().str.replace(\"(\",\"\", regex = True).str.replace(\")\",\"\", regex = True)\n",
    "df[\"Review_number\"] = df[\"Review_number\"].replace(np.nan, \"0\")\n",
    "df[\"Review_number\"] = df[\"Review_number\"].astype(int)"
   ]
  },
  {
   "cell_type": "markdown",
   "id": "d8d14f2e",
   "metadata": {},
   "source": [
    "### Bedding"
   ]
  },
  {
   "cell_type": "code",
   "execution_count": 1019,
   "id": "a9be48bc",
   "metadata": {},
   "outputs": [
    {
     "data": {
      "text/plain": [
       "1     369\n",
       "2     325\n",
       "3     131\n",
       "4      75\n",
       "5      19\n",
       "6      17\n",
       "9       5\n",
       "8       4\n",
       "7       3\n",
       "11      1\n",
       "22      1\n",
       "17      1\n",
       "13      1\n",
       "10      1\n",
       "Name: Number_of_beddings, dtype: int64"
      ]
     },
     "execution_count": 1019,
     "metadata": {},
     "output_type": "execute_result"
    }
   ],
   "source": [
    "df[\"Type_of_beddings\"] = df[\"Number of bed\"].str.split().str[1].str.strip().astype(str)\n",
    "df[\"Number_of_beddings\"] = df[\"Number of bed\"].str.split().str[0].str.strip().astype(int)\n",
    "df[\"Number_of_beddings\"].value_counts()"
   ]
  },
  {
   "cell_type": "code",
   "execution_count": 1020,
   "id": "9f1b3164",
   "metadata": {},
   "outputs": [
    {
     "data": {
      "text/plain": [
       "beds      452\n",
       "queen     163\n",
       "king      110\n",
       "bed       100\n",
       "double     91\n",
       "sofa       23\n",
       "single     11\n",
       "bunk        3\n",
       "Name: Type_of_beddings, dtype: int64"
      ]
     },
     "execution_count": 1020,
     "metadata": {},
     "output_type": "execute_result"
    }
   ],
   "source": [
    "# We must group beds in similar categories then accord each a capacity and multiply it with the number of beds\n",
    "df[\"Type_of_beddings\"].unique()\n",
    "df[\"Type_of_beddings\"].value_counts()"
   ]
  },
  {
   "cell_type": "code",
   "execution_count": 1021,
   "id": "0561644c",
   "metadata": {},
   "outputs": [],
   "source": [
    "bed_group_dict ={'beds':1,\n",
    " 'queen':2, \n",
    " 'double':2, \n",
    " 'king':2,\n",
    " 'bed':1,\n",
    " 'sofa':1, \n",
    " 'single':1,\n",
    " 'bunk':2}\n",
    "\n",
    "df[\"Size_beddings\"] = df[\"Type_of_beddings\"].replace(bed_group_dict).astype(int)\n",
    "df[\"Hosting_capacity\"] = df[\"Size_beddings\"] * df[\"Number_of_beddings\"]\n",
    "df[\"Price_per_bedding\"] = df[\"Price(in dollar)\"] / df[\"Number_of_beddings\"]"
   ]
  },
  {
   "cell_type": "code",
   "execution_count": 1022,
   "id": "a0ac146f",
   "metadata": {},
   "outputs": [],
   "source": [
    "df[\"Number_of_beddings_grouped\"] = np.where(df[\"Number_of_beddings\"] >= 5,\n",
    "                                   \"5 and more\",\n",
    "                                   df[\"Number_of_beddings\"].astype(str))"
   ]
  },
  {
   "cell_type": "markdown",
   "id": "e127b15d",
   "metadata": {},
   "source": [
    "### Type of accomodation"
   ]
  },
  {
   "cell_type": "code",
   "execution_count": 1023,
   "id": "d725b45e",
   "metadata": {},
   "outputs": [],
   "source": [
    "df[\"Accomodation_type\"] = df[\"Title\"].str.split(\" in \").str[0].str.strip()"
   ]
  },
  {
   "cell_type": "code",
   "execution_count": 1024,
   "id": "003037a3",
   "metadata": {},
   "outputs": [
    {
     "data": {
      "text/plain": [
       "Home                  123\n",
       "Apartment             119\n",
       "Cabin                 116\n",
       "Condo                  95\n",
       "Room                   83\n",
       "Villa                  62\n",
       "Tiny home              42\n",
       "Treehouse              37\n",
       "Cottage                34\n",
       "Guesthouse             26\n",
       "Place to stay          24\n",
       "Loft                   19\n",
       "Hut                    17\n",
       "Farm stay              16\n",
       "Guest suite            13\n",
       "Dome                   11\n",
       "Bungalow               11\n",
       "Hotel                   9\n",
       "Chalet                  9\n",
       "Hotel room              6\n",
       "Shipping container      6\n",
       "Earthen home            6\n",
       "Vacation home           5\n",
       "Resort                  5\n",
       "Nature lodge            5\n",
       "Tent                    5\n",
       "Barn                    5\n",
       "Camper/RV               4\n",
       "Yurt                    4\n",
       "Shepherd’s hut          4\n",
       "Trullo                  4\n",
       "Boat                    4\n",
       "Boutique hotel          4\n",
       "Townhouse               4\n",
       "Campsite                3\n",
       "Castle                  3\n",
       "Cave                    2\n",
       "Houseboat               2\n",
       "Lighthouse              2\n",
       "Hostel                  1\n",
       "Tower                   1\n",
       "Windmill                1\n",
       "Island                  1\n",
       "Name: Accomodation_type, dtype: int64"
      ]
     },
     "execution_count": 1024,
     "metadata": {},
     "output_type": "execute_result"
    }
   ],
   "source": [
    "df[\"Accomodation_type\"].value_counts()"
   ]
  },
  {
   "cell_type": "markdown",
   "id": "7ed8f200",
   "metadata": {},
   "source": [
    "### Area"
   ]
  },
  {
   "cell_type": "code",
   "execution_count": 1025,
   "id": "abedebe2",
   "metadata": {},
   "outputs": [],
   "source": [
    "df[\"Place\"] = df[\"Title\"].str.split(\" in \").str[1].str.strip()\n",
    "df[\"City\"] = df[\"Place\"].str.split(\", \").str[0].str.strip()\n",
    "df[\"Country\"] = np.where(df[\"Place\"].str.count(\", \")==0,\n",
    "                         \"US\",\n",
    "                         df[\"Place\"].str.split(\", \").str[-1].str.strip())\n",
    "df[\"US_State\"] = np.where(df[\"Place\"].str.count(\", \")==2,\n",
    "                           df[\"Place\"].str.split(\", \").str[1],\n",
    "                           \"\")"
   ]
  },
  {
   "cell_type": "code",
   "execution_count": 1026,
   "id": "01ecf1bb",
   "metadata": {},
   "outputs": [
    {
     "data": {
      "text/plain": [
       "array(['US', 'Mexico', 'Canada', 'Costa Rica', 'Cuba', 'Colombia',\n",
       "       'Jamaica', 'Dominican Republic', 'Puerto Rico', 'El Salvador',\n",
       "       'Curaçao', 'U.S. Virgin Islands', 'Norway', 'Poland', 'Turkey',\n",
       "       'Iceland', 'Czechia', 'Italy', 'Spain', 'Sweden', 'Portugal', 'UK',\n",
       "       'Germany', 'France', 'Greece', 'Switzerland', 'Ireland', 'Tunisia',\n",
       "       'Montenegro', 'Austria', 'Indonesia', 'Philippines', 'Thailand',\n",
       "       'Vietnam', 'Malaysia', 'Taiwan'], dtype=object)"
      ]
     },
     "execution_count": 1026,
     "metadata": {},
     "output_type": "execute_result"
    }
   ],
   "source": [
    "df[\"Country\"].unique()"
   ]
  },
  {
   "cell_type": "markdown",
   "id": "440451b5",
   "metadata": {},
   "source": [
    "### Amenities"
   ]
  },
  {
   "cell_type": "code",
   "execution_count": 1027,
   "id": "11ee24e6",
   "metadata": {},
   "outputs": [],
   "source": [
    "# Swimming pool\n",
    "pool_list = ['pool', 'Pool']\n",
    "df['Pool'] = df['Detail'].str.contains('|'.join(pool_list)).astype(int)\n",
    "# Sauna\n",
    "sauna_list = ['sauna', 'Sauna', 'hottube']\n",
    "df['Sauna'] = df['Detail'].str.contains('|'.join(sauna_list)).astype(int)"
   ]
  },
  {
   "cell_type": "markdown",
   "id": "0ed38125",
   "metadata": {},
   "source": [
    "### Get localisations"
   ]
  },
  {
   "cell_type": "code",
   "execution_count": 945,
   "id": "a17abca7",
   "metadata": {},
   "outputs": [],
   "source": [
    "import requests\n",
    "from unidecode import unidecode\n",
    "import urllib.request, json\n",
    "import time"
   ]
  },
  {
   "cell_type": "code",
   "execution_count": 952,
   "id": "440a32de",
   "metadata": {},
   "outputs": [
    {
     "data": {
      "text/plain": [
       "(953, 20)"
      ]
     },
     "execution_count": 952,
     "metadata": {},
     "output_type": "execute_result"
    }
   ],
   "source": [
    "df.shape"
   ]
  },
  {
   "cell_type": "code",
   "execution_count": 968,
   "id": "42527a2a",
   "metadata": {},
   "outputs": [],
   "source": [
    "df_places = df[['City','Country']].drop_duplicates()\n",
    "df_places = df_places.reset_index(drop=True)\n",
    "df_places['Index'] = df_places.index"
   ]
  },
  {
   "cell_type": "code",
   "execution_count": 954,
   "id": "80afe5f1",
   "metadata": {},
   "outputs": [
    {
     "data": {
      "text/plain": [
       "(594, 2)"
      ]
     },
     "execution_count": 954,
     "metadata": {},
     "output_type": "execute_result"
    }
   ],
   "source": [
    "df2.shape"
   ]
  },
  {
   "cell_type": "code",
   "execution_count": 971,
   "id": "d39cbb28",
   "metadata": {},
   "outputs": [],
   "source": [
    "Geoloc_list = []\n",
    "Geloc_rejected = []\n",
    "for i in range(len(df2)):\n",
    "    time.sleep(2)\n",
    "    url = unidecode('https://nominatim.openstreetmap.org/search?q={},{}&format=json'.format(df_places['City'][i], df_places['Country'][i]))\n",
    "    url = url.replace(\" \", \"%20\")\n",
    "    response = urllib.request.urlopen(url)\n",
    "    data = json.loads(response.read())\n",
    "    if len(data) == 0:\n",
    "        Geloc_rejected.append([i, url])\n",
    "        pass\n",
    "    else:\n",
    "        Geoloc_list.append([i, data[0]['lat'], data[0]['lon']])"
   ]
  },
  {
   "cell_type": "code",
   "execution_count": 996,
   "id": "488a72a1",
   "metadata": {},
   "outputs": [
    {
     "data": {
      "text/plain": [
       "(562, 32)"
      ]
     },
     "execution_count": 996,
     "metadata": {},
     "output_type": "execute_result"
    }
   ],
   "source": [
    "len(Geoloc_dict), len(Geloc_rejected)"
   ]
  },
  {
   "cell_type": "code",
   "execution_count": 976,
   "id": "5c4eaaee",
   "metadata": {},
   "outputs": [],
   "source": [
    "df_geoloc = pd.DataFrame(Geoloc_dict, columns = ['Index', 'Latitude', 'Longitude'])"
   ]
  },
  {
   "cell_type": "code",
   "execution_count": 1008,
   "id": "a10d08c8",
   "metadata": {},
   "outputs": [],
   "source": [
    "df_locations = pd.merge(df_places, df_geoloc, on=['Index']).drop(columns=['Index'])"
   ]
  },
  {
   "cell_type": "code",
   "execution_count": 1028,
   "id": "fee88ff3",
   "metadata": {},
   "outputs": [],
   "source": [
    "df = pd.merge(df, df_locations, on=['City','Country'], how=\"left\")"
   ]
  },
  {
   "cell_type": "code",
   "execution_count": 1031,
   "id": "ecae423f",
   "metadata": {},
   "outputs": [
    {
     "data": {
      "text/plain": [
       "(953, 27)"
      ]
     },
     "execution_count": 1031,
     "metadata": {},
     "output_type": "execute_result"
    }
   ],
   "source": [
    "df.shape"
   ]
  },
  {
   "cell_type": "code",
   "execution_count": 1029,
   "id": "52012770",
   "metadata": {},
   "outputs": [
    {
     "data": {
      "text/plain": [
       "Title                                 object\n",
       "Detail                                object\n",
       "Date                                  object\n",
       "Price(in dollar)                     float64\n",
       "Offer price(in dollar)               float64\n",
       "Review and rating                     object\n",
       "Number of bed                         object\n",
       "Start_date                    datetime64[ns]\n",
       "End_date                      datetime64[ns]\n",
       "Number_of_days                       float64\n",
       "Rating                               float64\n",
       "Review_number                          int32\n",
       "Type_of_beddings                      object\n",
       "Number_of_beddings                     int32\n",
       "Size_beddings                          int32\n",
       "Hosting_capacity                       int32\n",
       "Price_per_bedding                    float64\n",
       "Number_of_beddings_grouped            object\n",
       "Accomodation_type                     object\n",
       "Place                                 object\n",
       "City                                  object\n",
       "Country                               object\n",
       "US_State                              object\n",
       "Pool                                   int32\n",
       "Sauna                                  int32\n",
       "Latitude                              object\n",
       "Longitude                             object\n",
       "dtype: object"
      ]
     },
     "execution_count": 1029,
     "metadata": {},
     "output_type": "execute_result"
    }
   ],
   "source": [
    "df.dtypes"
   ]
  },
  {
   "cell_type": "markdown",
   "id": "93c2e296",
   "metadata": {},
   "source": [
    "### Column Selection and Output"
   ]
  },
  {
   "cell_type": "code",
   "execution_count": 1032,
   "id": "3df3c74d",
   "metadata": {},
   "outputs": [
    {
     "data": {
      "text/plain": [
       "['Title',\n",
       " 'Detail',\n",
       " 'Date',\n",
       " 'Price(in dollar)',\n",
       " 'Offer price(in dollar)',\n",
       " 'Review and rating',\n",
       " 'Number of bed',\n",
       " 'Start_date',\n",
       " 'End_date',\n",
       " 'Number_of_days',\n",
       " 'Rating',\n",
       " 'Review_number',\n",
       " 'Type_of_beddings',\n",
       " 'Number_of_beddings',\n",
       " 'Size_beddings',\n",
       " 'Hosting_capacity',\n",
       " 'Price_per_bedding',\n",
       " 'Number_of_beddings_grouped',\n",
       " 'Accomodation_type',\n",
       " 'Place',\n",
       " 'City',\n",
       " 'Country',\n",
       " 'US_State',\n",
       " 'Pool',\n",
       " 'Sauna',\n",
       " 'Latitude',\n",
       " 'Longitude']"
      ]
     },
     "execution_count": 1032,
     "metadata": {},
     "output_type": "execute_result"
    }
   ],
   "source": [
    "df.columns.tolist()"
   ]
  },
  {
   "cell_type": "code",
   "execution_count": 1033,
   "id": "87cacfcb",
   "metadata": {},
   "outputs": [],
   "source": [
    "columns = ['Detail',\n",
    " 'Price(in dollar)',\n",
    " 'Offer price(in dollar)',\n",
    " 'Price_per_bedding',\n",
    " 'Start_date',\n",
    " 'End_date',\n",
    " 'Number_of_days',\n",
    " 'Rating',\n",
    " 'Review_number',\n",
    " 'Type_of_beddings',\n",
    " 'Size_beddings',\n",
    " 'Hosting_capacity',\n",
    " 'Number_of_beddings',\n",
    " 'Number_of_beddings_grouped',\n",
    " 'Accomodation_type',\n",
    " 'City',\n",
    " 'Country',\n",
    " 'US_State',\n",
    " 'Pool',\n",
    " 'Sauna',\n",
    " 'Latitude',\n",
    " 'Longitude']\n",
    "df = df[columns]\n",
    "df.to_csv(\"data_airbnb.csv\", sep=\";\", index=False)"
   ]
  },
  {
   "cell_type": "code",
   "execution_count": null,
   "id": "c63ae62f",
   "metadata": {},
   "outputs": [],
   "source": []
  }
 ],
 "metadata": {
  "kernelspec": {
   "display_name": "Python 3 (ipykernel)",
   "language": "python",
   "name": "python3"
  },
  "language_info": {
   "codemirror_mode": {
    "name": "ipython",
    "version": 3
   },
   "file_extension": ".py",
   "mimetype": "text/x-python",
   "name": "python",
   "nbconvert_exporter": "python",
   "pygments_lexer": "ipython3",
   "version": "3.9.13"
  }
 },
 "nbformat": 4,
 "nbformat_minor": 5
}
